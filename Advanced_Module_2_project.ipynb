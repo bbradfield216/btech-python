{
  "nbformat": 4,
  "nbformat_minor": 0,
  "metadata": {
    "colab": {
      "provenance": [],
      "authorship_tag": "ABX9TyMrY/eX42uUdypsREhYdq1q",
      "include_colab_link": true
    },
    "kernelspec": {
      "name": "python3",
      "display_name": "Python 3"
    },
    "language_info": {
      "name": "python"
    }
  },
  "cells": [
    {
      "cell_type": "markdown",
      "metadata": {
        "id": "view-in-github",
        "colab_type": "text"
      },
      "source": [
        "<a href=\"https://colab.research.google.com/github/bbradfield216/btech-python/blob/main/Advanced_Module_2_project.ipynb\" target=\"_parent\"><img src=\"https://colab.research.google.com/assets/colab-badge.svg\" alt=\"Open In Colab\"/></a>"
      ]
    },
    {
      "cell_type": "code",
      "execution_count": null,
      "metadata": {
        "id": "k3xaNBdmi6Tf"
      },
      "outputs": [],
      "source": [
        "import pandas as pd"
      ]
    },
    {
      "cell_type": "code",
      "source": [
        "import requests"
      ],
      "metadata": {
        "id": "AE1C0Y7Wj5bv"
      },
      "execution_count": null,
      "outputs": []
    },
    {
      "cell_type": "code",
      "source": [
        "from bs4 import BeautifulSoup"
      ],
      "metadata": {
        "id": "BUoceBUPkBwV"
      },
      "execution_count": null,
      "outputs": []
    },
    {
      "cell_type": "code",
      "source": [
        "'''\n",
        "Webscraping bookstore section\n",
        "'''"
      ],
      "metadata": {
        "id": "7oAJ5iioZzVe"
      },
      "execution_count": null,
      "outputs": []
    },
    {
      "cell_type": "code",
      "source": [
        "response = requests.get('https://btech-data-analytics.github.io/bridgerland-technical-college/bookstore.html').text"
      ],
      "metadata": {
        "id": "0Rc3G6p2kH-g"
      },
      "execution_count": null,
      "outputs": []
    },
    {
      "cell_type": "code",
      "source": [
        "soup = BeautifulSoup(response, 'html.parser')"
      ],
      "metadata": {
        "id": "WuDjebovkTrU"
      },
      "execution_count": null,
      "outputs": []
    },
    {
      "cell_type": "code",
      "source": [
        "soup"
      ],
      "metadata": {
        "colab": {
          "base_uri": "https://localhost:8080/"
        },
        "id": "ZS9yS9forvWx",
        "outputId": "91aecedf-4aa7-4669-bb70-037096e9059d"
      },
      "execution_count": null,
      "outputs": [
        {
          "output_type": "execute_result",
          "data": {
            "text/plain": [
              "<html lang=\"en\">\n",
              "<head>\n",
              "<meta charset=\"utf-8\"/>\n",
              "<meta content=\"width=device-width, initial-scale=1.0\" name=\"viewport\"/>\n",
              "<link href=\"https://www.w3schools.com/w3css/4/w3.css\" rel=\"stylesheet\"/>\n",
              "<link href=\"style.css\" rel=\"stylesheet\"/>\n",
              "<title>Bob's Bookstore</title>\n",
              "</head>\n",
              "<body>\n",
              "<div class=\"w3-bar w3-blue-grey w3-large\" style=\"padding: 0rem 8rem 0rem 8rem\">\n",
              "<a href=\"/bridgerland-technical-college/home.html\"><img class=\"\" src=\"bobs_bookstore_white.png\" style=\"max-height: 2.8rem;\"/></a>\n",
              "<a class=\"w3-bar-item w3-button w3-right\" href=\"/bridgerland-technical-college/bookstore.html\">Store</a>\n",
              "<a class=\"w3-bar-item w3-button w3-right\" href=\"/bridgerland-technical-college/contact.html\">Contact</a>\n",
              "<a class=\"w3-bar-item w3-button w3-right\" href=\"/bridgerland-technical-college/about.html\">About</a>\n",
              "</div>\n",
              "<div class=\"w3-container\" style=\"max-width: 1000px;margin: auto;\">\n",
              "<h1>Books for Sale</h1>\n",
              "<table class=\"w3-table-all w3-hoverable w3-small\">\n",
              "<thead>\n",
              "<tr>\n",
              "<th>ISBN</th>\n",
              "<th>Title</th>\n",
              "<th>Author</th>\n",
              "<th>Language</th>\n",
              "<th>Pages</th>\n",
              "<th>Topic</th>\n",
              "<th>Price</th>\n",
              "<th></th>\n",
              "</tr>\n",
              "</thead>\n",
              "<tr class=\"book\">\n",
              "<td>978-1234567890</td>\n",
              "<td>Whiskers of Wisdom: Tales from Feline Philosophers</td>\n",
              "<td>Penelope Wainwright</td>\n",
              "<td>English</td>\n",
              "<td>256</td>\n",
              "<td>Cats</td>\n",
              "<td>$19.99</td>\n",
              "<td><button>Buy now</button></td>\n",
              "</tr>\n",
              "<tr class=\"book\">\n",
              "<td>978-2345678901</td>\n",
              "<td>Purrfectly Pawesome: A Cat's Life</td>\n",
              "<td>Jasper Sterling</td>\n",
              "<td>English</td>\n",
              "<td>192</td>\n",
              "<td>Cats</td>\n",
              "<td>$15.99</td>\n",
              "<td><button>Buy now</button></td>\n",
              "</tr>\n",
              "<tr class=\"book\">\n",
              "<td>978-3456789012</td>\n",
              "<td>Cat Tales: Adventures in Whiskerland</td>\n",
              "<td>Penelope Wainwright</td>\n",
              "<td>English</td>\n",
              "<td>320</td>\n",
              "<td>Cats</td>\n",
              "<td>$21.99</td>\n",
              "<td><button>Buy now</button></td>\n",
              "</tr>\n",
              "<tr class=\"book\">\n",
              "<td>978-4567890123</td>\n",
              "<td>The Enigmatic Paws: Mysteries of Meowville</td>\n",
              "<td>Maximilian Thorne</td>\n",
              "<td>English</td>\n",
              "<td>288</td>\n",
              "<td>Cats</td>\n",
              "<td>$17.99</td>\n",
              "<td><button>Buy now</button></td>\n",
              "</tr>\n",
              "<tr class=\"book\">\n",
              "<td>978-5678901234</td>\n",
              "<td>Cats in Wonderland</td>\n",
              "<td>Isadora Harrington</td>\n",
              "<td>English</td>\n",
              "<td>224</td>\n",
              "<td>Cats</td>\n",
              "<td>$16.99</td>\n",
              "<td><button>Buy now</button></td>\n",
              "</tr>\n",
              "<tr class=\"book\">\n",
              "<td>978-6789012345</td>\n",
              "<td>Whisker Wisdom: Life Lessons from Feline Sages</td>\n",
              "<td>Penelope Wainwright</td>\n",
              "<td>English</td>\n",
              "<td>288</td>\n",
              "<td>Cats</td>\n",
              "<td>$20.99</td>\n",
              "<td><button>Buy now</button></td>\n",
              "</tr>\n",
              "<tr class=\"book\">\n",
              "<td>978-7890123456</td>\n",
              "<td>Catnip Chronicles: A Purrfect Journey</td>\n",
              "<td>Jasper Sterling</td>\n",
              "<td>English</td>\n",
              "<td>192</td>\n",
              "<td>Cats</td>\n",
              "<td>$14.99</td>\n",
              "<td><button>Buy now</button></td>\n",
              "</tr>\n",
              "<tr class=\"book\">\n",
              "<td>978-8901234567</td>\n",
              "<td>Cat-astrophe: Tales of Misadventures</td>\n",
              "<td>Celeste Nightshade</td>\n",
              "<td>English</td>\n",
              "<td>240</td>\n",
              "<td>Cats</td>\n",
              "<td>$18.99</td>\n",
              "<td><button>Buy now</button></td>\n",
              "</tr>\n",
              "<tr class=\"book\">\n",
              "<td>978-9012345678</td>\n",
              "<td>The Cat's Whisker: A Feline Fantasy</td>\n",
              "<td>Penelope Wainwright</td>\n",
              "<td>English</td>\n",
              "<td>208</td>\n",
              "<td>Cats</td>\n",
              "<td>$16.99</td>\n",
              "<td><button>Buy now</button></td>\n",
              "</tr>\n",
              "<tr class=\"book\">\n",
              "<td>978-0123456789</td>\n",
              "<td>Fur and Friendship: Stories of Feline Companions</td>\n",
              "<td>Seraphina Montague</td>\n",
              "<td>English</td>\n",
              "<td>176</td>\n",
              "<td>Cats</td>\n",
              "<td>$12.99</td>\n",
              "<td><button>Buy now</button></td>\n",
              "</tr>\n",
              "<tr class=\"book\">\n",
              "<td>978-1234567890</td>\n",
              "<td>Tails of Loyalty: Canine Chronicles</td>\n",
              "<td>Benjamin Barkley</td>\n",
              "<td>English</td>\n",
              "<td>256</td>\n",
              "<td>Dogs</td>\n",
              "<td>$29.99</td>\n",
              "<td><button>Buy now</button></td>\n",
              "</tr>\n",
              "<tr class=\"book\">\n",
              "<td>978-2345678901</td>\n",
              "<td>Pawsitive Adventures: A Dog's Journey</td>\n",
              "<td>Sophie Shepherd</td>\n",
              "<td>English</td>\n",
              "<td>192</td>\n",
              "<td>Dogs</td>\n",
              "<td>$25.99</td>\n",
              "<td><button>Buy now</button></td>\n",
              "</tr>\n",
              "<tr class=\"book\">\n",
              "<td>978-3456789012</td>\n",
              "<td>Barking Wisdom: Lessons from Wise Canines</td>\n",
              "<td>Oliver Obedience</td>\n",
              "<td>English</td>\n",
              "<td>320</td>\n",
              "<td>Dogs</td>\n",
              "<td>$21.99</td>\n",
              "<td><button>Buy now</button></td>\n",
              "</tr>\n",
              "<tr class=\"book\">\n",
              "<td>978-4567890123</td>\n",
              "<td>Dogged Determination: Stories of Resilient Pooches</td>\n",
              "<td>Ruby Ruffington</td>\n",
              "<td>English</td>\n",
              "<td>288</td>\n",
              "<td>Dogs</td>\n",
              "<td>$27.99</td>\n",
              "<td><button>Buy now</button></td>\n",
              "</tr>\n",
              "<tr class=\"book\">\n",
              "<td>978-5678901234</td>\n",
              "<td>The Bark Brigade: Canine Heroes Among Us</td>\n",
              "<td>Benjamin Barkley</td>\n",
              "<td>English</td>\n",
              "<td>224</td>\n",
              "<td>Dogs</td>\n",
              "<td>$26.99</td>\n",
              "<td><button>Buy now</button></td>\n",
              "</tr>\n",
              "</table>\n",
              "</div>\n",
              "<footer class=\"page-footer\">\n",
              "<div class=\"footer-content\">\n",
              "<p>© 2023 Bob's Bookstore</p>\n",
              "<ul class=\"social-icons\">\n",
              "<li><a href=\"#\"><img alt=\"Facebook\" src=\"facebook.png\"/></a></li>\n",
              "<li><a href=\"#\"><img alt=\"Twitter\" src=\"twitter.png\"/></a></li>\n",
              "<li><a href=\"#\"><img alt=\"Instagram\" src=\"instagram.png\"/></a></li>\n",
              "</ul>\n",
              "</div>\n",
              "</footer>\n",
              "</body>\n",
              "</html>"
            ]
          },
          "metadata": {},
          "execution_count": 63
        }
      ]
    },
    {
      "cell_type": "code",
      "source": [
        "isbn = []\n",
        "title = []\n",
        "author = []\n",
        "language = []\n",
        "pages = []\n",
        "topic = []\n",
        "price = []\n",
        "\n",
        "for book in soup.find_all('tr', class_='book'):\n",
        "    isbn.append(book.find_all('td')[0].text)\n",
        "    title.append(book.find_all('td')[1].text)\n",
        "    author.append(book.find_all('td')[2].text)\n",
        "    language.append(book.find_all('td')[3].text)\n",
        "    pages.append(book.find_all('td')[4].text)\n",
        "    topic.append(book.find_all('td')[5].text)\n",
        "    price.append(book.find_all('td')[6].text)"
      ],
      "metadata": {
        "id": "cpzpxej5kxZh"
      },
      "execution_count": null,
      "outputs": []
    },
    {
      "cell_type": "code",
      "source": [
        "df = pd.DataFrame({\n",
        "    'isbn': isbn,\n",
        "    'title': title,\n",
        "    'author': author,\n",
        "    'language': language,\n",
        "    'pages': pages,\n",
        "    'topic': topic,\n",
        "    'price': price\n",
        "})"
      ],
      "metadata": {
        "id": "CHJ3Yi0Emc0V"
      },
      "execution_count": null,
      "outputs": []
    },
    {
      "cell_type": "code",
      "source": [
        "df['author'].value_counts()"
      ],
      "metadata": {
        "colab": {
          "base_uri": "https://localhost:8080/"
        },
        "id": "Rl2YmIPvxu5L",
        "outputId": "8779e1f8-d8fd-4d5a-e95c-360e83942311"
      },
      "execution_count": null,
      "outputs": [
        {
          "output_type": "execute_result",
          "data": {
            "text/plain": [
              "Penelope Wainwright    4\n",
              "Jasper Sterling        2\n",
              "Benjamin Barkley       2\n",
              "Maximilian Thorne      1\n",
              "Isadora Harrington     1\n",
              "Celeste Nightshade     1\n",
              "Seraphina Montague     1\n",
              "Sophie Shepherd        1\n",
              "Oliver Obedience       1\n",
              "Ruby Ruffington        1\n",
              "Name: author, dtype: int64"
            ]
          },
          "metadata": {},
          "execution_count": 66
        }
      ]
    },
    {
      "cell_type": "code",
      "source": [
        "df['topic'].value_counts()"
      ],
      "metadata": {
        "colab": {
          "base_uri": "https://localhost:8080/"
        },
        "id": "lwQQrGO9xvOY",
        "outputId": "84335f2a-37e9-4096-f4ee-4fa943002c57"
      },
      "execution_count": null,
      "outputs": [
        {
          "output_type": "execute_result",
          "data": {
            "text/plain": [
              "Cats    10\n",
              "Dogs     5\n",
              "Name: topic, dtype: int64"
            ]
          },
          "metadata": {},
          "execution_count": 67
        }
      ]
    },
    {
      "cell_type": "code",
      "source": [
        "df['price'] = df['price'].str.replace('$', '')\n",
        "df['price'] = df['price'].astype(float)"
      ],
      "metadata": {
        "colab": {
          "base_uri": "https://localhost:8080/"
        },
        "id": "ZPDap-hV2aDh",
        "outputId": "3193509a-2c13-4d4c-a398-4b81171e0267"
      },
      "execution_count": null,
      "outputs": [
        {
          "output_type": "stream",
          "name": "stderr",
          "text": [
            "<ipython-input-68-7c45af71183d>:1: FutureWarning: The default value of regex will change from True to False in a future version. In addition, single character regular expressions will *not* be treated as literal strings when regex=True.\n",
            "  df['price'] = df['price'].str.replace('$', '')\n"
          ]
        }
      ]
    },
    {
      "cell_type": "code",
      "source": [
        "df.info()"
      ],
      "metadata": {
        "id": "iYdgAMJo2iIj"
      },
      "execution_count": null,
      "outputs": []
    },
    {
      "cell_type": "code",
      "source": [
        "# Shows which topic of books is the most expensive, on average\n",
        "df.groupby('topic')['price'].mean().sort_values(ascending= False)"
      ],
      "metadata": {
        "colab": {
          "base_uri": "https://localhost:8080/"
        },
        "id": "LkKMyPpvy1P7",
        "outputId": "ad9ac7fb-4184-4a3f-bba0-abd85cfad641"
      },
      "execution_count": null,
      "outputs": [
        {
          "output_type": "execute_result",
          "data": {
            "text/plain": [
              "topic\n",
              "Dogs    26.59\n",
              "Cats    17.79\n",
              "Name: price, dtype: float64"
            ]
          },
          "metadata": {},
          "execution_count": 69
        }
      ]
    },
    {
      "cell_type": "code",
      "source": [
        "df['pages'] = df['pages'].astype(int)"
      ],
      "metadata": {
        "id": "PYxxZeO_2utJ"
      },
      "execution_count": null,
      "outputs": []
    },
    {
      "cell_type": "code",
      "source": [
        "df.info()"
      ],
      "metadata": {
        "id": "tAKeIpld22Pk"
      },
      "execution_count": null,
      "outputs": []
    },
    {
      "cell_type": "code",
      "source": [
        "# Shows which topic of book has the most pages, on average\n",
        "df.groupby('topic')['pages'].mean().sort_values(ascending= False)"
      ],
      "metadata": {
        "colab": {
          "base_uri": "https://localhost:8080/"
        },
        "id": "vvjNTnwk1KDp",
        "outputId": "4c45be9e-6f92-42a1-ace7-d94d97d1a729"
      },
      "execution_count": null,
      "outputs": [
        {
          "output_type": "execute_result",
          "data": {
            "text/plain": [
              "topic\n",
              "Dogs    256.0\n",
              "Cats    238.4\n",
              "Name: pages, dtype: float64"
            ]
          },
          "metadata": {},
          "execution_count": 74
        }
      ]
    }
  ]
}