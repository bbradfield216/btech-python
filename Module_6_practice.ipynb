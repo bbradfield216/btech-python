{
  "nbformat": 4,
  "nbformat_minor": 0,
  "metadata": {
    "colab": {
      "provenance": [],
      "authorship_tag": "ABX9TyNtY8eUYDDS+4iB7GdAJf0D",
      "include_colab_link": true
    },
    "kernelspec": {
      "name": "python3",
      "display_name": "Python 3"
    },
    "language_info": {
      "name": "python"
    }
  },
  "cells": [
    {
      "cell_type": "markdown",
      "metadata": {
        "id": "view-in-github",
        "colab_type": "text"
      },
      "source": [
        "<a href=\"https://colab.research.google.com/github/bbradfield216/btech-python/blob/main/Module_6_practice.ipynb\" target=\"_parent\"><img src=\"https://colab.research.google.com/assets/colab-badge.svg\" alt=\"Open In Colab\"/></a>"
      ]
    },
    {
      "cell_type": "code",
      "source": [
        "import pandas as pd\n",
        "df = pd.read_csv('laptops.csv')"
      ],
      "metadata": {
        "id": "syAdvFOg1sye"
      },
      "execution_count": null,
      "outputs": []
    },
    {
      "cell_type": "code",
      "source": [
        "pd.options.display.max_columns = None\n",
        "pd.options.display.max_colwidth = None"
      ],
      "metadata": {
        "id": "NvzONGsj3IJs"
      },
      "execution_count": null,
      "outputs": []
    },
    {
      "cell_type": "code",
      "source": [
        "df.info()"
      ],
      "metadata": {
        "id": "MA3DLe9R16h_"
      },
      "execution_count": null,
      "outputs": []
    },
    {
      "cell_type": "code",
      "source": [
        "# Drops all rows from the data set if they contain a null value in at least one column\n",
        "df.dropna()"
      ],
      "metadata": {
        "id": "x55EeyEWWmBm"
      },
      "execution_count": null,
      "outputs": []
    },
    {
      "cell_type": "code",
      "source": [
        "import pandas as pd\n",
        "df = pd.read_csv('laptops.csv')"
      ],
      "metadata": {
        "id": "jVIQHQgDXFdf"
      },
      "execution_count": null,
      "outputs": []
    },
    {
      "cell_type": "code",
      "source": [
        "# Memory type has the the most null values\n",
        "df.info()"
      ],
      "metadata": {
        "id": "mvjt8KXpz9xg"
      },
      "execution_count": null,
      "outputs": []
    },
    {
      "cell_type": "code",
      "source": [
        "# Descriptive statistics look through\n",
        "df.describe()"
      ],
      "metadata": {
        "id": "LP2Iv7RV0QeX"
      },
      "execution_count": null,
      "outputs": []
    },
    {
      "cell_type": "code",
      "source": [
        "# Changed all of the negative values in the 'primary_storage' column to positive values\n",
        "df.loc[df['primary_storage'] < 0] *= -1"
      ],
      "metadata": {
        "id": "uX_8Hz0sLLSK"
      },
      "execution_count": null,
      "outputs": []
    },
    {
      "cell_type": "code",
      "source": [
        "# Found the average amount of primary storage in a laptop in the data set after cleaning the data\n",
        "df['primary_storage'].mean()"
      ],
      "metadata": {
        "id": "T-nyN5TaNtja",
        "colab": {
          "base_uri": "https://localhost:8080/"
        },
        "outputId": "fe327f83-9f9c-40e0-a9df-8a2163b63da4"
      },
      "execution_count": null,
      "outputs": [
        {
          "output_type": "execute_result",
          "data": {
            "text/plain": [
              "447.5824508320726"
            ]
          },
          "metadata": {},
          "execution_count": 26
        }
      ]
    },
    {
      "cell_type": "code",
      "source": [
        "# Changed all of the negative values in the 'Price' column to positive values\n",
        "# Found the average price of a laptop in the data set after cleaning the data\n",
        "df.loc[df['Price'] < 0] *= -1\n",
        "df['Price'].mean()"
      ],
      "metadata": {
        "id": "4xs0JF6HVauz",
        "colab": {
          "base_uri": "https://localhost:8080/"
        },
        "outputId": "947d4a57-3b9a-4cd4-c6d5-3cd3f305fb38"
      },
      "execution_count": null,
      "outputs": [
        {
          "output_type": "execute_result",
          "data": {
            "text/plain": [
              "61014.00983358548"
            ]
          },
          "metadata": {},
          "execution_count": 27
        }
      ]
    },
    {
      "cell_type": "code",
      "source": [
        "# Divides the total pixels by the resolution height\n",
        "# Finds average resolution width of a laptop\n",
        "df['resolution_width'] = df['total_pixels'] / df['resolution_height']\n",
        "df['resolution_width'].mean()"
      ],
      "metadata": {
        "id": "Xkm4kHpDW-Vu",
        "colab": {
          "base_uri": "https://localhost:8080/"
        },
        "outputId": "118935e8-c371-417f-878d-e984ead66be7"
      },
      "execution_count": null,
      "outputs": [
        {
          "output_type": "execute_result",
          "data": {
            "text/plain": [
              "1071.428139183056"
            ]
          },
          "metadata": {},
          "execution_count": 28
        }
      ]
    },
    {
      "cell_type": "code",
      "source": [
        "# Looks at null values for memory type column\n",
        "df.info()"
      ],
      "metadata": {
        "id": "aq9IBfEO1KUB"
      },
      "execution_count": null,
      "outputs": []
    },
    {
      "cell_type": "code",
      "source": [
        "df.fillna(0, inplace=False)"
      ],
      "metadata": {
        "id": "RbyFt7C8BE_B"
      },
      "execution_count": null,
      "outputs": []
    },
    {
      "cell_type": "code",
      "source": [
        "drops_n = df.dropna()\n",
        "print(drops_n)"
      ],
      "metadata": {
        "id": "z9YnLgEyiBze"
      },
      "execution_count": null,
      "outputs": []
    },
    {
      "cell_type": "code",
      "source": [
        "# Drops memory type column and then drops null values\n",
        "drops_memory_type_column = df.drop(columns=['memory_type'])\n",
        "drops_memory_type_column.dropna()"
      ],
      "metadata": {
        "id": "boBduIv2dQyv"
      },
      "execution_count": null,
      "outputs": []
    },
    {
      "cell_type": "code",
      "source": [
        "df['Company'].value_counts()"
      ],
      "metadata": {
        "id": "BIa0J0jF6YDk"
      },
      "execution_count": null,
      "outputs": []
    },
    {
      "cell_type": "code",
      "source": [
        "df['Company'] = df['Company'].replace({\n",
        "    'lenovo': 'Lenovo',\n",
        "    'dell': 'Dell',\n",
        "    'hp': 'HP',\n",
        "    'asus': 'Asus',\n",
        "    'toshiba': 'Toshiba',\n",
        "    'msi': 'MSI',\n",
        "    'apple': 'Apple',\n",
        "    'samsung': 'Samsung',\n",
        "    'mediacom': 'Mediacom',\n",
        "    'razer': 'Razer',\n",
        "    'microsoft': 'Microsoft',\n",
        "    'acer': 'Acer'\n",
        "    })"
      ],
      "metadata": {
        "id": "QTdrlDjaqNdM"
      },
      "execution_count": null,
      "outputs": []
    },
    {
      "cell_type": "code",
      "source": [
        "df['Company'].value_counts()"
      ],
      "metadata": {
        "id": "lOHWRH21tMdH"
      },
      "execution_count": null,
      "outputs": []
    },
    {
      "cell_type": "code",
      "source": [
        "# Outliers z-score method for the price column\n",
        "average_price = df['Price'].mean()\n",
        "std_dev_price = df['Price'].std()"
      ],
      "metadata": {
        "id": "d9gpdSMltUYx"
      },
      "execution_count": null,
      "outputs": []
    },
    {
      "cell_type": "code",
      "source": [
        "df['Z-Score'] = (df['Price'] - average_price) / std_dev_price\n",
        "df.head()"
      ],
      "metadata": {
        "id": "E2pa9cQnuKHy"
      },
      "execution_count": null,
      "outputs": []
    },
    {
      "cell_type": "code",
      "source": [
        "df.loc[df['Z-Score'] > 3]"
      ],
      "metadata": {
        "id": "huE5OZaguREt"
      },
      "execution_count": null,
      "outputs": []
    },
    {
      "cell_type": "code",
      "source": [
        "# Drops all duplicates from the data set using a subset of the columns Company, cpu_name, gpu_name, total_pixels, and Ram\n",
        "df.drop_duplicates(subset=['Company', 'cpu_name', 'gpu_name', 'total_pixels', 'Ram'], inplace=True)\n",
        "df.info()"
      ],
      "metadata": {
        "id": "cosgT-9WvO80"
      },
      "execution_count": null,
      "outputs": []
    }
  ]
}