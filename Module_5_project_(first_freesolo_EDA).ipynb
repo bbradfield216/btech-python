{
  "nbformat": 4,
  "nbformat_minor": 0,
  "metadata": {
    "colab": {
      "provenance": [],
      "authorship_tag": "ABX9TyM1xVPPseqjYh/USkTsYAQE",
      "include_colab_link": true
    },
    "kernelspec": {
      "name": "python3",
      "display_name": "Python 3"
    },
    "language_info": {
      "name": "python"
    }
  },
  "cells": [
    {
      "cell_type": "markdown",
      "metadata": {
        "id": "view-in-github",
        "colab_type": "text"
      },
      "source": [
        "<a href=\"https://colab.research.google.com/github/bbradfield216/btech-python/blob/main/Module_5_project_(first_freesolo_EDA).ipynb\" target=\"_parent\"><img src=\"https://colab.research.google.com/assets/colab-badge.svg\" alt=\"Open In Colab\"/></a>"
      ]
    },
    {
      "cell_type": "markdown",
      "source": [
        "# Exploratory Data Analysis on Wine Tasting\n",
        "\n",
        "Brock Bradfield\n",
        "\n",
        "This analysis explores the data set of wine reviews from around the world.  Wine tasting involves assessing the appearance, aroma, and flavor of a wine. The objective is to try to determine which characteristics make a wine great and which ones do not.\n",
        "\n",
        "\n",
        "## About the data\n",
        "This data set includes information concerning the country, a description of the wine, designation, points, price, province, name of the taster, tasters twitter handle, title, variety, and winery."
      ],
      "metadata": {
        "id": "NmmDmKUyknNt"
      }
    },
    {
      "cell_type": "code",
      "source": [
        "import pandas as pd\n",
        "df = pd.read_csv('wine.csv')"
      ],
      "metadata": {
        "id": "3rqFSdJDVRKt"
      },
      "execution_count": null,
      "outputs": []
    },
    {
      "cell_type": "code",
      "source": [
        "pd.options.display.max_columns = None\n",
        "pd.options.display.max_colwidth = None"
      ],
      "metadata": {
        "id": "6yoEYTKlYEfH"
      },
      "execution_count": null,
      "outputs": []
    },
    {
      "cell_type": "markdown",
      "source": [
        "# Analysis\n",
        "The analysis below explores differernt variables of wine tasting. Specifically, it will explore the following different topics:\n",
        "\n",
        "\n",
        "*   Which countries produce the best wine according to points\n",
        "\n",
        "*   Taster's and the scores they gave\n",
        "\n",
        "*   Price differences\n",
        "\n",
        "*   Which year produced the best wine according to points\n",
        "\n",
        "*   Extracting words from the description and it's relationship to points\n",
        "\n",
        "*   Do reviews with more letters award more or less points\n",
        "\n",
        "*   Which region of the province Sicily & Sardinia produces the best wine, on average\n",
        "\n",
        "\n"
      ],
      "metadata": {
        "id": "CGJJuOyoXK8c"
      }
    },
    {
      "cell_type": "code",
      "source": [
        "df.head()"
      ],
      "metadata": {
        "id": "y2V9OsOOYhiw"
      },
      "execution_count": null,
      "outputs": []
    },
    {
      "cell_type": "code",
      "source": [
        "df.info()"
      ],
      "metadata": {
        "id": "jNjeZ1E_YkaP"
      },
      "execution_count": null,
      "outputs": []
    },
    {
      "cell_type": "code",
      "source": [
        "df.describe()"
      ],
      "metadata": {
        "id": "R1rjeqsNYpUV"
      },
      "execution_count": null,
      "outputs": []
    },
    {
      "cell_type": "code",
      "source": [
        "df.shape"
      ],
      "metadata": {
        "id": "vx-0bgcSYtIp"
      },
      "execution_count": null,
      "outputs": []
    },
    {
      "cell_type": "markdown",
      "source": [
        "### Which countries produce the best wine according to points\n",
        "\n",
        "When determining which countries produce the best wines my immediate first thought would be Italy producing the most points solely based off of steryotypes.\n",
        "\n",
        "-\n",
        "\n",
        "According to the results of the code below England(91.58) points, India(90.22), and Austria(90.10) were the top three countries that produced the most points on average. Italy(88.562) was still relatively close with the countries that produced the highest points. The U.S.(88.564) was really close to Italy. The countries that produced the lowest points were Peru(83.56), Egypt(84.00), and Ukraine(84.07).\n"
      ],
      "metadata": {
        "id": "FZ7x9kCZeYcp"
      }
    },
    {
      "cell_type": "code",
      "source": [
        "# shows which country produces wine with the most points, on average\n",
        "df.groupby('country')['points'].mean().sort_values(ascending= False)"
      ],
      "metadata": {
        "id": "-gAL0A3IBqOc"
      },
      "execution_count": null,
      "outputs": []
    },
    {
      "cell_type": "markdown",
      "source": [
        "From this analysis I can conclude that England, India, and Austra produced the best wine according to points. And Peru, Egypt, and Ukraine produced the worst wines acording to points."
      ],
      "metadata": {
        "id": "mM9XTDeR4yBv"
      }
    },
    {
      "cell_type": "markdown",
      "source": [
        "### Taster's and the scores they gave\n",
        "\n",
        "When looking at the different taster's and the scores they gave, my first thoughts are that I dont know if theres a sheet all tasters have to use in order to review the wine or if its all biased but I would imagine the ratings would vary quite a bit.\n",
        "\n",
        "-\n",
        "\n",
        "According to the results of the code below the results suprisingly didn't vary too far from each other. Alexander Peartree(85.855), and Carrie Dykes(86.396) gave out the lowest scores on average. Whereas Matt Kettmann(90.009) and Anne Krebiehl MW(90.563) gave out the highest scores on average. From most points to lowest points the range is only (4.078).\n"
      ],
      "metadata": {
        "id": "jrRr1Dydex54"
      }
    },
    {
      "cell_type": "code",
      "source": [
        "# shows which taster gives the lowest scores (points), on average\n",
        "df.groupby('taster_name')['points'].mean().sort_values()"
      ],
      "metadata": {
        "id": "Hve-_MJUCQzz"
      },
      "execution_count": null,
      "outputs": []
    },
    {
      "cell_type": "markdown",
      "source": [
        "From this analysis I can conclude that although there was a varity of different scores for wine, the scores actually weren't too far off from each other as the difference from the highest average scorer and the lowest average scorer was only (4.078)"
      ],
      "metadata": {
        "id": "LgGTayS85YPs"
      }
    },
    {
      "cell_type": "markdown",
      "source": [
        "### Price differences for different variety's of wine\n",
        "\n",
        "As far as price differences go my immediate reaction is the higher the cost the better the wine\n",
        "\n",
        "-\n",
        "\n",
        "According to the results of the code below there was a medium positive correlation with the points and the price. Meaning that as the price of wine went up there's a medium positive correlation that also so did the points that the tasters gave the wine. Also according to the results of the code below the most expensive variety of wine was 'Ramisco'."
      ],
      "metadata": {
        "id": "OsPqWnWQfIxp"
      }
    },
    {
      "cell_type": "code",
      "source": [
        "# shows which variety of wine is the most expensive, on average\n",
        "df.groupby('variety')['price'].mean().sort_values(ascending= False)"
      ],
      "metadata": {
        "id": "dbkg_ITeDajP"
      },
      "execution_count": null,
      "outputs": []
    },
    {
      "cell_type": "code",
      "source": [
        "# shows relationship with 'price' and 'points' and the correlation between the 'points' and 'price'\n",
        "df.groupby('points')['price'].mean()\n",
        "df.corr()"
      ],
      "metadata": {
        "id": "Fn6eDzP29v-c"
      },
      "execution_count": null,
      "outputs": []
    },
    {
      "cell_type": "markdown",
      "source": [
        "From this analysis I can conclude that 'Ramisco' was the most expensive variety of wine. And there was a medium positive correlation between the 'points' and 'price' columns."
      ],
      "metadata": {
        "id": "UJZGsuXn5a98"
      }
    },
    {
      "cell_type": "markdown",
      "source": [
        "### Which year produced the best wine according to points\n",
        "\n",
        "When looking at which year produced the best wine, obviously the older the wine the better it should taste. So I would imagine the older wines have better ratings than newer wines.\n",
        "\n",
        "-\n",
        "\n",
        "According to the results of the code below my hypothesis was incorrect. Wines in the 1900's scored far better than wines in the 1800's. Almost by 10 points more. To me this would indicate there's probably a threshhold for how long wine should sit to be at it's best and if it exceeds that limit it will probably not taste as good."
      ],
      "metadata": {
        "id": "0spdN2yDfRDk"
      }
    },
    {
      "cell_type": "code",
      "source": [
        "# creates new column 'title_year' and shows which year of wines has the best score (points), on average\n",
        "df['title_year'] = df['title'].str.extract('(\\d{4})')\n",
        "df.groupby('title_year')['points'].mean().sort_values(ascending= False)"
      ],
      "metadata": {
        "id": "vLbdYyWOEDHr"
      },
      "execution_count": null,
      "outputs": []
    },
    {
      "cell_type": "markdown",
      "source": [
        "From this analysis I can conclude that the older the wine does not necessarily mean the better tasting wine. As wine in the 1900's scored far better than wine in the 1800's."
      ],
      "metadata": {
        "id": "K09f_vSy5dvP"
      }
    },
    {
      "cell_type": "markdown",
      "source": [
        "### Extracting words from the description and it's relationship to points\n",
        "\n",
        "When extracting these specific words; 'depth', 'fruity', and 'herbal' and looking at there relationship to points I would think descriptions with the words 'depth' and 'fruity' would have higher points than not. And I think the opposite would be true for 'herbal'.\n",
        "\n",
        "-\n",
        "\n",
        "According to the results of the code below the hypothesis was partially true. Descriptions with the word 'depth' scored 2 points better on average than without. Descriptions with the word 'fruity' scored 1 point worse than those without. And descriptions with the word 'herbal' scored 1 point worse than those without.    "
      ],
      "metadata": {
        "id": "WMUQXxj5fjBQ"
      }
    },
    {
      "cell_type": "code",
      "source": [
        "# creates new column 'depth' and shows relationship between the 'depth' column and 'points' column\n",
        "df['depth'] = df['description'].str.contains('depth')\n",
        "df.groupby('depth')['points'].mean().sort_values()"
      ],
      "metadata": {
        "id": "fh7j4_iTHBOD"
      },
      "execution_count": null,
      "outputs": []
    },
    {
      "cell_type": "code",
      "source": [
        "# creates new column 'fruity' and shows relationship between the 'fruity' column and 'points' column\n",
        "df['fruity'] = df['description'].str.contains('fruity')\n",
        "df.groupby('fruity')['points'].mean().sort_values()"
      ],
      "metadata": {
        "id": "ffYI7zCTLm5c"
      },
      "execution_count": null,
      "outputs": []
    },
    {
      "cell_type": "code",
      "source": [
        "# creates new column 'herbal' and shows relationship between the 'herbal' column and 'points' column\n",
        "df['herbal'] = df['description'].str.contains('herbal')\n",
        "df.groupby('herbal')['points'].mean().sort_values()"
      ],
      "metadata": {
        "id": "NtmQZvY_Mjhq"
      },
      "execution_count": null,
      "outputs": []
    },
    {
      "cell_type": "markdown",
      "source": [
        "From this analysis I can conclude that with these 3 words there was not really any significance as the points differences were only by 1 or 2. Which is not really enough to draw any conclusions from it."
      ],
      "metadata": {
        "id": "ZSL18jY55gqy"
      }
    },
    {
      "cell_type": "markdown",
      "source": [
        "### Do reviews with more letters award more or less points\n",
        "\n",
        "When determining whether or not reviews with more characters or words in the description would recieve less or more points, I would think that descriptions with more characters would recieve higher points than those with less characters unless it was the most horrible thing that they've ever tasted.\n",
        "\n",
        "-\n",
        "\n",
        "According to the results of the code below there was a (0.56) medium positive correlation between the 'number of characters'/'length' of a description and the 'points' given."
      ],
      "metadata": {
        "id": "ODoYQZO1fqMK"
      }
    },
    {
      "cell_type": "code",
      "source": [
        "# creates new column 'num_char' and shows relationship between number of characters and points?\n",
        "df['num_char'] = df['description'].str.len()\n",
        "df['num_char'].corr(df['points'])"
      ],
      "metadata": {
        "id": "NlZza3QmNChH",
        "colab": {
          "base_uri": "https://localhost:8080/"
        },
        "outputId": "b5543f2a-96da-406f-a216-9d542c54b865"
      },
      "execution_count": null,
      "outputs": [
        {
          "output_type": "execute_result",
          "data": {
            "text/plain": [
              "0.5577602558815876"
            ]
          },
          "metadata": {},
          "execution_count": 18
        }
      ]
    },
    {
      "cell_type": "markdown",
      "source": [
        "From this analysis I can conclude that there was medium positive correlation between the 'num_char' column and the 'points' column of (0.56) which again is not really enough to draw any conclusions indicating that the length of a description impacted the points given.  "
      ],
      "metadata": {
        "id": "0_R16rYz5im9"
      }
    },
    {
      "cell_type": "markdown",
      "source": [
        "### Which region of the province Sicily & Sardinia produces the best wine, on average\n",
        "\n",
        "According to the results of the code below.........."
      ],
      "metadata": {
        "id": "FI8IofZ1f39a"
      }
    },
    {
      "cell_type": "code",
      "source": [
        "# shows which region in the province of Sicily & Sardinia produces the best wine, on average\n",
        "df['region'] = df['title'].str.extract('(\\w+)')\n",
        "s_s = df[df['province'] == 'Sicily & Sardinia']\n",
        "s_s.groupby('region')['points'].mean().sort_values(ascending= False)"
      ],
      "metadata": {
        "id": "XUY6FbvcPbWI"
      },
      "execution_count": null,
      "outputs": []
    },
    {
      "cell_type": "markdown",
      "source": [
        "From this analysis I can conclude that..."
      ],
      "metadata": {
        "id": "BzlYESr-5li_"
      }
    },
    {
      "cell_type": "markdown",
      "source": [
        "## Conclusion\n",
        "Overall we learned that England, India, and Austra produced the best wine according to points. And Peru, Egypt, and Ukraine produced the worst wines acording to points. We also learned that although there was a varity of different scores for wine, the difference from the highest average scorer and the lowest average scorer was only (4.078) indicating the wine tasting maybe wasn't completely and totally biased and that there might've been some sort of scoring rubric. 'Ramisco' was the most expensive variety of wine. And the older the wine does not necessarily mean the better."
      ],
      "metadata": {
        "id": "L7AA2OY45udB"
      }
    }
  ]
}