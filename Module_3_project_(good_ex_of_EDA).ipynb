{
  "nbformat": 4,
  "nbformat_minor": 0,
  "metadata": {
    "colab": {
      "private_outputs": true,
      "provenance": [],
      "include_colab_link": true
    },
    "kernelspec": {
      "name": "python3",
      "display_name": "Python 3"
    },
    "language_info": {
      "name": "python"
    }
  },
  "cells": [
    {
      "cell_type": "markdown",
      "metadata": {
        "id": "view-in-github",
        "colab_type": "text"
      },
      "source": [
        "<a href=\"https://colab.research.google.com/github/bbradfield216/btech-python/blob/main/Module_3_project_(good_ex_of_EDA).ipynb\" target=\"_parent\"><img src=\"https://colab.research.google.com/assets/colab-badge.svg\" alt=\"Open In Colab\"/></a>"
      ]
    },
    {
      "cell_type": "markdown",
      "source": [
        "# Exploratory Data Analysis on Data Analytics Salaries\n",
        "\n",
        "Brock Bradfield\n",
        "\n",
        "This analysis explores salaries of data analytics professionals around the world to find patterns in the data. Specifically, the goal is to determine which factors influence pay rates around the world and learn more about what a career path might look like for somebody starting out in Data Analytics.\n",
        "\n",
        "## About the data\n",
        "This data set comes from Kaggle user [randomarnab](https://www.kaggle.com/datasets/arnabchaki/data-science-salaries-2023) and contains information about various roles in data analytics from around the world. The data was gathered in 2023 and contains details about each role's experience level, job title, salary, remote ratio, company location, and company size."
      ],
      "metadata": {
        "id": "yfZYmnUK-nXS"
      }
    },
    {
      "cell_type": "code",
      "execution_count": null,
      "metadata": {
        "id": "_JbG77Cr-hH1"
      },
      "outputs": [],
      "source": [
        "import pandas as pd\n",
        "df = pd.read_csv('data_analytics_salaries.csv')"
      ]
    },
    {
      "cell_type": "markdown",
      "source": [
        "## Analysis\n",
        "The analysis below explores salaries of data analytics professionals. Specifically, it will explore the following different topics:\n",
        "\n",
        "- How does experience level affect salary?\n",
        "- How does experience level affect remote ratio?\n",
        "- Which job titles are the most common in the United States and how does the job title affect salary?\n",
        "- How have salaries changed between 2020 and 2022 for Data Analysts?\n",
        "- Where are most data analytics positions located (according to this data set)? Which countries pay the most?\n",
        "- What percent of employees are based in another country but are paid in USD?\n",
        "\n",
        "One notable aspect of this data set is the presence of both `salary` and `salary_in_usd` columns. The former details the salary for the position in the local currency where the company is based, whereas the latter column standardizes all of the salaries into USD. Thus, this analysis will exclusively use the `salary_in_usd` column for comparisons."
      ],
      "metadata": {
        "id": "siXLCBgYWADj"
      }
    },
    {
      "cell_type": "code",
      "source": [
        "df.head()"
      ],
      "metadata": {
        "id": "x1m-EkygUxU3"
      },
      "execution_count": null,
      "outputs": []
    },
    {
      "cell_type": "code",
      "source": [
        "df.info()"
      ],
      "metadata": {
        "id": "rr6FM_VSWDWZ"
      },
      "execution_count": null,
      "outputs": []
    },
    {
      "cell_type": "code",
      "source": [
        "df.describe()"
      ],
      "metadata": {
        "id": "1XPDVVxZayOK"
      },
      "execution_count": null,
      "outputs": []
    },
    {
      "cell_type": "code",
      "source": [
        "df.shape"
      ],
      "metadata": {
        "id": "sfoREmuJrXLL"
      },
      "execution_count": null,
      "outputs": []
    },
    {
      "cell_type": "markdown",
      "source": [
        "### How does experience level affect salary?\n",
        "\n",
        "At first glance, experience level seems to be the obvious candidate for the most influential variable in determining salary for data analytics professionals. This analysis assumes that the experiences levels are, in order from least amount of experience to greatest:\n",
        "\n",
        "1. EN - Entry level\n",
        "2. MI - Mid-level\n",
        "3. SE - Senior level\n",
        "4. EX - Executive level\n",
        "\n",
        "According to the output of the code below, average salary tends to increase, as hypothesized, as experience level increases. However, these figures may be skewed because part-time salaries are included in the data set. Because part-time workers are more likely to be entry level and mid-level, the lower salaries of these positions (which are caused by working few hours) should be removed for this part of the analysis."
      ],
      "metadata": {
        "id": "NdengnC1dVP-"
      }
    },
    {
      "cell_type": "code",
      "source": [
        "# code provided as an example\n",
        "df[['experience_level', 'salary_in_usd']].groupby('experience_level').mean().sort_values(by='salary_in_usd')"
      ],
      "metadata": {
        "id": "jlwALIS5bXhj"
      },
      "execution_count": null,
      "outputs": []
    },
    {
      "cell_type": "markdown",
      "source": [
        "The code below creates a subset of the data that contains only positions that were full time. Recalculating the average salary for each experience level among this new subset brought the average salaries closer together only slightly. The change in average salary was most unnoticeable."
      ],
      "metadata": {
        "id": "eFk6DGuLlGPQ"
      }
    },
    {
      "cell_type": "code",
      "source": [
        "# gets a subset that only includes full time (FT)\n",
        "\n",
        "full_time = df[df['employment_type'] == 'FT']\n",
        "full_time[['experience_level', 'salary_in_usd']].groupby('experience_level').mean().sort_values(by='salary_in_usd')"
      ],
      "metadata": {
        "id": "4FQlCFUpjFdb"
      },
      "execution_count": null,
      "outputs": []
    },
    {
      "cell_type": "markdown",
      "source": [
        "From this analysis, I can conclude that experience is necessary to obtaining a higher salary. Salaries tend to vary greatly across different experience levels, meaning that experience is likely very influential for determining a person's salary."
      ],
      "metadata": {
        "id": "zrCCF-45lgT-"
      }
    },
    {
      "cell_type": "markdown",
      "source": [
        "### How does experience level affect remote ratio?\n",
        "When determining how much employees are allowed to work remotely, I immediately think that senior employees are given more liberty to work from home than employees with less experience.\n",
        "\n",
        "However, according to the results of the code below...\n",
        "\n",
        "The hypothesis was only partially correct. Surprisingly, employees with mid level experience worked less remotely than entry level employees. Other than that the hypothesis was correct as excecutives worked remotely the most with employees at the senior level following close behind. (EN, ML, SE, EX)\n"
      ],
      "metadata": {
        "id": "O5QnhMvyldET"
      }
    },
    {
      "cell_type": "code",
      "source": [
        "# executives (EX) enjoy the highest remote work ratio, mid level (ML) experience have the smallest\n",
        "df[['remote_ratio', 'experience_level']].groupby('experience_level').mean().sort_values(by='remote_ratio')"
      ],
      "metadata": {
        "id": "TalKhGzLx64y"
      },
      "execution_count": null,
      "outputs": []
    },
    {
      "cell_type": "code",
      "source": [
        "# average remote ratio that executives (EX) do\n",
        "experience_ex = df[df['experience_level'] == 'EX']\n",
        "round(experience_ex['remote_ratio'].mean(), 1)"
      ],
      "metadata": {
        "id": "M4x9RcCC3ISK"
      },
      "execution_count": null,
      "outputs": []
    },
    {
      "cell_type": "code",
      "source": [
        "# average remote ratio of mid level (ML) experience\n",
        "experience_ml = df[df['experience_level'] == 'MI']\n",
        "round(experience_ml['remote_ratio'].mean(), 1)"
      ],
      "metadata": {
        "id": "g-q5zRc8Cjhm"
      },
      "execution_count": null,
      "outputs": []
    },
    {
      "cell_type": "code",
      "source": [
        "# year 2022 saw an increase in the remote ratio for employees in several different experience levels.\n",
        "# shows which experience level saw the biggest increase in average remote ratio...findings; EN = 4, ML = -3, SE = 2, EX = 13\n",
        "\n",
        "year_tttwo = df[df['work_year'] == 2022]\n",
        "year_tttwo[['remote_ratio', 'experience_level']].groupby('experience_level').mean().sort_values(by= 'remote_ratio')"
      ],
      "metadata": {
        "id": "VjxGHY-MCEok"
      },
      "execution_count": null,
      "outputs": []
    },
    {
      "cell_type": "markdown",
      "source": [
        "From this analysis I can conclude that even with the increase in remote work in 2022, the results remained in the same order. On average mid level employees work less remotely than entry level employees. Executive level employees work the most remotely with senior level employees following behind."
      ],
      "metadata": {
        "id": "VyJyVWaaimmy"
      }
    },
    {
      "cell_type": "markdown",
      "source": [
        "### Which job titles are the most common in the United States and how do they affect salary?\n",
        "\n",
        "When determining which job titles are most common in the US and how they affect salary, my first thought would be 'data analyst' aquiring the most common job title and highest amount of pay as that's the most simple and basic way to title this line of work in my eyes. And most common probably meaning more opportunities for higher pay.\n",
        "\n",
        "However, according to the results of the code below...'data engineer's' were the most common job title with 85 listings in the US and 'data analyst's' with the third most at 71 listings in the US. As far as pay goes regarding these two job titles, the average salaries were somewhat close, both exceeding 6 figures with (DE) at 139,724 and (DA) at 107,674.\n",
        "\n"
      ],
      "metadata": {
        "id": "OXtrvpR43QIC"
      }
    },
    {
      "cell_type": "code",
      "source": [
        "# job titles located from the US (i.e company_location)\n",
        "us_location = df[df['company_location'] == 'US']\n",
        "us_location['job_title'].value_counts()"
      ],
      "metadata": {
        "id": "6QuH1I6r2pCn"
      },
      "execution_count": null,
      "outputs": []
    },
    {
      "cell_type": "code",
      "source": [
        "# number of 'Data Analyst' jobs located in the US\n",
        "da_us = df[(df['company_location'] == 'US') & (df['job_title'] == 'Data Analyst')]\n",
        "da_us['job_title'].count()"
      ],
      "metadata": {
        "id": "wmC6_cyaOexK"
      },
      "execution_count": null,
      "outputs": []
    },
    {
      "cell_type": "code",
      "source": [
        "# median salary for data analysts in the US\n",
        "da_us = df[(df['company_location'] == 'US') & (df['job_title'] == 'Data Analyst')]\n",
        "da_us['salary_in_usd'].median()"
      ],
      "metadata": {
        "id": "vt_E7OYyQUnF"
      },
      "execution_count": null,
      "outputs": []
    },
    {
      "cell_type": "code",
      "source": [
        "# standard deviation for salaries for machine learning engineers in the US\n",
        "mle_us = df[(df['company_location'] == 'US') & (df['job_title'] == 'Machine Learning Engineer')]\n",
        "mle_us['salary_in_usd'].std()"
      ],
      "metadata": {
        "id": "A4Vl6gNyRD9k"
      },
      "execution_count": null,
      "outputs": []
    },
    {
      "cell_type": "code",
      "source": [
        "# average salary for data engineers in the US\n",
        "de_us = df[(df['company_location'] == 'US') & (df['job_title'] == 'Data Engineer')]\n",
        "de_us['salary_in_usd'].mean()"
      ],
      "metadata": {
        "id": "cudULJr4St9E"
      },
      "execution_count": null,
      "outputs": []
    },
    {
      "cell_type": "markdown",
      "source": [
        "From this analysis I can conclude that the most common job title was 'data engineer'. Regarding pay it is really difficult to determine whether or not the job title itself affects salary as no matter what job title you put in the standard deviation is extremely high meaning you can't rely on 'average salary's' to determine what you will get paid."
      ],
      "metadata": {
        "id": "6o1OcnDEshfu"
      }
    },
    {
      "cell_type": "markdown",
      "source": [
        "### How have salaries changed between 2020 and 2022 for Data Analysts?\n",
        "\n",
        "When determining how salaries have changed between 2020 and 2022 for data analyst's my first thought is that salaries would have raised.\n",
        "\n",
        "According to the results of the code below that statement is accurate. In 2020 the average salary for data analysts was 45,547. In 2021 it was 79,505. And lastly in 2022 it was 100,550."
      ],
      "metadata": {
        "id": "phmwboOc_CRc"
      }
    },
    {
      "cell_type": "code",
      "source": [
        "# how average salaries for data analysts have changed between 2020 (45,547.29) and 2022 (100,550.74)\n",
        "da_tt = df[(df['job_title'] == 'Data Analyst') & (df['work_year'] == 2020)]\n",
        "round(da_tt['salary_in_usd'].mean(), 2)"
      ],
      "metadata": {
        "id": "BO4Xf-o2925B"
      },
      "execution_count": null,
      "outputs": []
    },
    {
      "cell_type": "code",
      "source": [
        "da_tttwo = df[(df['job_title'] == 'Data Analyst') & (df['work_year'] == 2022)]\n",
        "round(da_tttwo['salary_in_usd'].mean(), 2)"
      ],
      "metadata": {
        "id": "53q7ju_iWvkt"
      },
      "execution_count": null,
      "outputs": []
    },
    {
      "cell_type": "code",
      "source": [
        "# average salary for data analysts in 2021\n",
        "da_ttone = df[(df['job_title'] == 'Data Analyst') & (df['work_year'] == 2021)]\n",
        "da_ttone['salary_in_usd'].mean()"
      ],
      "metadata": {
        "id": "6RwfopjmX1sw"
      },
      "execution_count": null,
      "outputs": []
    },
    {
      "cell_type": "markdown",
      "source": [
        "\n",
        "From this analysis I can conclude that although yes, the standard deviation is high, there's still an increase in salary each year all for the same job title meaning there was an increase in salary wages each year between the years 2020 and 2022."
      ],
      "metadata": {
        "id": "xynvNXo80KvF"
      }
    },
    {
      "cell_type": "markdown",
      "source": [
        "### Where are most data analytics positions located (according to this data set)? Which countries pay the most?\n",
        "\n",
        "When determining where most data analytics positions are located my first thought is the US. When determining which countries pay the most my first thoughts would be the US and probably Canada since they're so close to the US.\n",
        "\n",
        "According to the results of the code below that statement is partially accurate. The US was listed the most, 355 times. And the average salary for people who work for a company in the US was 144,055. Great Britain was the second most listed 47 times. And the average salary for people who work for a company in GB was 81,583. Canada was next, listed 30 times with an average salary of 99,823. However, although Russia was only listed 2 times their average salary was the most at 157,500."
      ],
      "metadata": {
        "id": "4sk7XAF3BXRD"
      }
    },
    {
      "cell_type": "code",
      "source": [
        "# number of job openings for different countries\n",
        "df['company_location'].value_counts()"
      ],
      "metadata": {
        "id": "5DHaVSQ4A9xJ"
      },
      "execution_count": null,
      "outputs": []
    },
    {
      "cell_type": "code",
      "source": [
        "# average salary for people who work for a company in china\n",
        "china_cl = df[df['company_location'] == 'CN']\n",
        "china_cl['salary_in_usd'].mean()"
      ],
      "metadata": {
        "id": "OLHmPwEB4eaG"
      },
      "execution_count": null,
      "outputs": []
    },
    {
      "cell_type": "code",
      "source": [
        "# average salary for people who work for a company in great britain\n",
        "gb = df[df['company_location'] == 'GB']\n",
        "gb['salary_in_usd'].mean()"
      ],
      "metadata": {
        "id": "dEoptXwJ6VCK"
      },
      "execution_count": null,
      "outputs": []
    },
    {
      "cell_type": "code",
      "source": [
        "# average salary for people who work for a company in canada\n",
        "ca = df[df['company_location'] == 'CA']\n",
        "ca['salary_in_usd'].mean()"
      ],
      "metadata": {
        "id": "u1rE20Uv6vqD"
      },
      "execution_count": null,
      "outputs": []
    },
    {
      "cell_type": "code",
      "source": [
        "# average salary for people who work for a company in the US\n",
        "us = df[df['company_location'] == 'US']\n",
        "us['salary_in_usd'].mean()"
      ],
      "metadata": {
        "id": "TNn7bRT78LCK"
      },
      "execution_count": null,
      "outputs": []
    },
    {
      "cell_type": "code",
      "source": [
        "# which company location paid the most on average\n",
        "df[['salary_in_usd', 'company_location']].groupby('company_location').mean().sort_values(by= 'salary_in_usd', ascending= False)"
      ],
      "metadata": {
        "id": "AIDeIuKC-LIQ"
      },
      "execution_count": null,
      "outputs": []
    },
    {
      "cell_type": "markdown",
      "source": [
        "From this analysis I can conclude that the US was listed the most and had the second highest listed average salary. Russia had the highest listed average salary and was listed one of the least amount of times."
      ],
      "metadata": {
        "id": "ByA-pBaD_5Tj"
      }
    },
    {
      "cell_type": "markdown",
      "source": [
        "### What percent of employees are based in another country but are paid in USD?\n",
        "\n",
        "To figure this out, I'll need to make a filter that gets out only employees that are in countries that are not the United States and whose salary currency is USD. Then, I can see how many rows that dataframe has and divide it by the number of rows in the original dataframe to get the answer.\n",
        "\n",
        "In the code below I recieved back 67 rows. If in the original dataframe there were 607 total rows, then 67 / 607 = 0.1104 or %11.04."
      ],
      "metadata": {
        "id": "Js42Iut5DzQ-"
      }
    },
    {
      "cell_type": "code",
      "source": [
        "# 67 rows / 607 total rows = %11.04\n",
        "not_us_usd = df[~(df['employee_residence'] == 'US') & (df['salary_currency'] == 'USD')]\n",
        "print(not_us_usd)"
      ],
      "metadata": {
        "id": "UiOC-NBdEWmG"
      },
      "execution_count": null,
      "outputs": []
    },
    {
      "cell_type": "markdown",
      "source": [
        "From this analysis I can conclude that the percent of employees that are based in another country but are paid in USD is %11.04."
      ],
      "metadata": {
        "id": "TE7jDPrtCoLW"
      }
    },
    {
      "cell_type": "markdown",
      "source": [
        "## Conclusion\n",
        "\n",
        "Overall we learned that more experience means higher salaries, experience level has somewhat of an affect on the remote work ratio, 'Data Enginner' was the most common job title in the US, job title has basically no affect on average salary, there was a very noticible increase in average salary from the year 2020 to 2022, the 'company_location' listed the most amount of times was the US and had the second highest average salary listed, Russia was listed one of the least amount of times but had the highest average salary listed, and the percent of employees who are based in another country but are paid in USD was %11.04.  "
      ],
      "metadata": {
        "id": "TWCvnB1JEaXd"
      }
    },
    {
      "cell_type": "code",
      "source": [],
      "metadata": {
        "id": "C2FQgu-TVhpP"
      },
      "execution_count": null,
      "outputs": []
    }
  ]
}