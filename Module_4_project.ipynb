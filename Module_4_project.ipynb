{
  "nbformat": 4,
  "nbformat_minor": 0,
  "metadata": {
    "colab": {
      "private_outputs": true,
      "provenance": [],
      "include_colab_link": true
    },
    "kernelspec": {
      "name": "python3",
      "display_name": "Python 3"
    },
    "language_info": {
      "name": "python"
    }
  },
  "cells": [
    {
      "cell_type": "markdown",
      "metadata": {
        "id": "view-in-github",
        "colab_type": "text"
      },
      "source": [
        "<a href=\"https://colab.research.google.com/github/bbradfield216/btech-python/blob/main/Module_4_project.ipynb\" target=\"_parent\"><img src=\"https://colab.research.google.com/assets/colab-badge.svg\" alt=\"Open In Colab\"/></a>"
      ]
    },
    {
      "cell_type": "markdown",
      "source": [
        "# Airbnb Amenities Analysis\n",
        "Brock Bradfield\n",
        "\n",
        "This analysis explores different amenities offered in Airbnb listings in Salem, Oregon. The objective of this analysis is to determine which amenities in Salem are the most common, and which ones are the least commonly observed.\n",
        "\n",
        "## About the data\n",
        "This data set `airbnb.csv` comes from the Airbnb website and describes about 300 Airbnb listings in the Salem, Oregon area. The data describes many aspects of the listings including information about the hosts, listing description, and amenities offered at the facilities.\n",
        "\n",
        "## Analysis\n",
        "The goal of this analysis is to determine which amenities are the most common and which are the least common in the Salem, Oregon area. However, because the amenities are stored as lists in a single column of the data set, this information is difficult to analyze without the use of for loops.\n",
        "\n",
        "I will use nested for loops to count up how many of each amenity exists in Airbnb listings in Salem, Oregon."
      ],
      "metadata": {
        "id": "9TJDGWiG7Vnd"
      }
    },
    {
      "cell_type": "code",
      "source": [
        "import pandas as pd\n",
        "df = pd.read_csv('airbnb.csv')"
      ],
      "metadata": {
        "id": "33sRxQU9-ULy"
      },
      "execution_count": null,
      "outputs": []
    },
    {
      "cell_type": "code",
      "source": [
        "pd.options.display.max_columns = None\n",
        "pd.options.display.max_colwidth = None"
      ],
      "metadata": {
        "id": "QVGL-O_UnlOR"
      },
      "execution_count": null,
      "outputs": []
    },
    {
      "cell_type": "code",
      "source": [
        "# prints each amenity of it's own\n",
        "for i, row in df.iterrows():\n",
        "    for amenity in eval(row['amenities']):\n",
        "        print(amenity)"
      ],
      "metadata": {
        "id": "pK_19M3q74Jt"
      },
      "execution_count": null,
      "outputs": []
    },
    {
      "cell_type": "code",
      "source": [
        "# instead of printing...this will add the code above to a counter dictionary... which keeps a running count of how many times 'blank' is mentioned...to find the most common amenity...soooo....\n",
        "# in the inner for loop, a single 'blank' will be extracted...if that language already exists in the counter dictionary, 1 will be added to its count...\n",
        "# otherwise, that language will be added to the dictionary with a count of 1\n",
        "counter = {}\n",
        "for i, row in df.iterrows():\n",
        "    for amenity in eval(row['amenities']):\n",
        "        if amenity in counter:\n",
        "            counter[amenity] += 1\n",
        "        else:\n",
        "            counter[amenity] = 1\n",
        "\n",
        "counter"
      ],
      "metadata": {
        "id": "5CAGQQKp9Fsg"
      },
      "execution_count": null,
      "outputs": []
    },
    {
      "cell_type": "code",
      "source": [
        "# last step we can use another for loop to print out only languages that were listed over 'a number' times:\n",
        "for amenity in counter:\n",
        "    if counter[amenity] > 250:\n",
        "        print(amenity, counter[amenity])"
      ],
      "metadata": {
        "id": "HTIVqT2TB45k"
      },
      "execution_count": null,
      "outputs": []
    },
    {
      "cell_type": "markdown",
      "source": [
        "## Conclusion\n",
        "Smoke alarms were most common. Carbon monoxide alarms were second most common. Kitchens were third most common."
      ],
      "metadata": {
        "id": "tVW-XqP3FcFx"
      }
    }
  ]
}