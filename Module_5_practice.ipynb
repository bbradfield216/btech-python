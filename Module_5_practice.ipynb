{
  "cells": [
    {
      "cell_type": "markdown",
      "metadata": {
        "id": "view-in-github",
        "colab_type": "text"
      },
      "source": [
        "<a href=\"https://colab.research.google.com/github/bbradfield216/btech-python/blob/main/Module_5_practice.ipynb\" target=\"_parent\"><img src=\"https://colab.research.google.com/assets/colab-badge.svg\" alt=\"Open In Colab\"/></a>"
      ]
    },
    {
      "cell_type": "code",
      "execution_count": null,
      "metadata": {
        "id": "GE7fh9iRtyqW"
      },
      "outputs": [],
      "source": [
        "# function that takes one parameter (a message) and then prints out name and message\n",
        "def function(message):\n",
        "    print('Brock')\n",
        "    return message\n",
        "function('will be a master coder')"
      ]
    },
    {
      "cell_type": "code",
      "execution_count": null,
      "metadata": {
        "id": "a_ZJiM5EwTfC"
      },
      "outputs": [],
      "source": [
        "# function adds two numbers together and then determines if the number is even or odd\n",
        "def add_two_num(a, b):\n",
        "    result = a + b\n",
        "\n",
        "    if result % 2 == 0:\n",
        "        print('even')\n",
        "    else:\n",
        "        print('odd')\n",
        "\n",
        "    return result\n",
        "\n",
        "add_two_num(-43, 81)"
      ]
    },
    {
      "cell_type": "code",
      "execution_count": null,
      "metadata": {
        "id": "M00cQc1i5eTb"
      },
      "outputs": [],
      "source": [
        "# fahrenheit to celcius converter\n",
        "def fahrenheit_to_celcius(f):\n",
        "    result = (f - 32) * 5/9\n",
        "    return result\n",
        "fahrenheit_to_celcius(63)"
      ]
    },
    {
      "cell_type": "code",
      "execution_count": null,
      "metadata": {
        "id": "jMbKOa9m-f9m"
      },
      "outputs": [],
      "source": [
        "# tells what years are leap years\n",
        "def leap_year(year):\n",
        "    if year %4 == 0:\n",
        "      print('leap year')\n",
        "    elif year %100 == 0:\n",
        "      print('not a leap year')\n",
        "    elif year %400 == 0:\n",
        "      print('leap year')\n",
        "    else:\n",
        "      print('not a leap year')\n",
        "\n",
        "    return year\n",
        "\n",
        "leap_year(2031)"
      ]
    },
    {
      "cell_type": "code",
      "execution_count": null,
      "metadata": {
        "id": "6ysX_gtLBqUa"
      },
      "outputs": [],
      "source": [
        "def chinese_zodiak(year):\n",
        "    result = year - 1900\n",
        "    if result % 12 == 0:\n",
        "      print('rat')\n",
        "    if result % 12 == 1:\n",
        "      print('ox')\n",
        "    if result % 12 == 2:\n",
        "      print('tiger')\n",
        "    if result % 12 == 8:\n",
        "      print('monkey')\n",
        "    if result % 12 == 5:\n",
        "      print('snake')\n",
        "\n",
        "chinese_zodiak(2073)"
      ]
    },
    {
      "cell_type": "code",
      "execution_count": null,
      "metadata": {
        "id": "FdLtVrB3FuLf"
      },
      "outputs": [],
      "source": [
        "import pandas as pd\n",
        "df = pd.read_csv('senator_tweets.csv')"
      ]
    },
    {
      "cell_type": "code",
      "source": [
        "pd.options.display.max_columns = None\n",
        "pd.options.display.max_colwidth = None"
      ],
      "metadata": {
        "id": "nWamxwEa4I6W"
      },
      "execution_count": null,
      "outputs": []
    },
    {
      "cell_type": "code",
      "execution_count": null,
      "metadata": {
        "id": "mYnYQvMhIkFT"
      },
      "outputs": [],
      "source": [
        "# creates new column showing character count for each tweet\n",
        "df['num_char_tweet'] = df['text'].str.len()"
      ]
    },
    {
      "cell_type": "code",
      "execution_count": null,
      "metadata": {
        "id": "Cj9OfxLyKDy8"
      },
      "outputs": [],
      "source": [
        "# correlation coefficient between length of a tweet and the number of replies\n",
        "df.corr()\n",
        "df['num_char_tweet'].corr(df['replies'])"
      ]
    },
    {
      "cell_type": "code",
      "execution_count": null,
      "metadata": {
        "id": "-etMATewOIGL"
      },
      "outputs": [],
      "source": [
        "# actual text of the smallest num_char_tweet\n",
        "min_index = df['num_char_tweet'].idxmin()\n",
        "df.loc[min_index, 'text']"
      ]
    },
    {
      "cell_type": "code",
      "execution_count": null,
      "metadata": {
        "id": "9sJhBpNNagzl"
      },
      "outputs": [],
      "source": [
        "# only shows tweets including the word 'immigration' in 'text' column\n",
        "# other way of finding rows = df['text'].str.contains('immigration').sum()\n",
        "filt = df['text'].str.contains('immigration')\n",
        "df.loc[ filt ]"
      ]
    },
    {
      "cell_type": "code",
      "execution_count": null,
      "metadata": {
        "id": "U1yzNar9TDeZ"
      },
      "outputs": [],
      "source": [
        "# only shows tweets including the word \"Canada\" in 'text' column\n",
        "filt = df['text'].str.contains('Canada')\n",
        "df.loc[filt]"
      ]
    },
    {
      "cell_type": "code",
      "execution_count": null,
      "metadata": {
        "id": "cQexBGVtTzcS"
      },
      "outputs": [],
      "source": [
        "# only shows 'object/string' date including '2010' in the 'created_at' column\n",
        "filt = df['created_at'].str.contains('2010')\n",
        "df.loc[filt]"
      ]
    },
    {
      "cell_type": "code",
      "execution_count": null,
      "metadata": {
        "id": "63kS8aE4inTI"
      },
      "outputs": [],
      "source": [
        "# creates new column indicating the month the tweet was created\n",
        "df['month'] = df['created_at'].str.split('/').str[0]"
      ]
    },
    {
      "cell_type": "code",
      "execution_count": null,
      "metadata": {
        "id": "5FRlQzcRksex"
      },
      "outputs": [],
      "source": [
        "# shows which month senators appear to send the most tweets\n",
        "df['month'].value_counts().sort_values(ascending= False)"
      ]
    },
    {
      "cell_type": "code",
      "execution_count": null,
      "metadata": {
        "id": "Cz_LM5EUqtny"
      },
      "outputs": [],
      "source": [
        "# creates new column that counts up how many words a tweet has\n",
        "df['num_words'] = df['text'].str.split().apply(len)"
      ]
    },
    {
      "cell_type": "code",
      "source": [
        "# shows which state has senators who publish the longest tweets (in number of words) on average\n",
        "df.groupby('state')['num_words'].mean().sort_values(ascending= False)"
      ],
      "metadata": {
        "id": "vQbtFE233v2w"
      },
      "execution_count": null,
      "outputs": []
    },
    {
      "cell_type": "code",
      "source": [
        "df.head()"
      ],
      "metadata": {
        "id": "2nrCsv0qdYnq"
      },
      "execution_count": null,
      "outputs": []
    },
    {
      "cell_type": "code",
      "source": [
        "import pandas as pd\n",
        "df = pd.read_csv('invoice_lines.csv')"
      ],
      "metadata": {
        "id": "9zoSMWaH6b2n"
      },
      "execution_count": null,
      "outputs": []
    },
    {
      "cell_type": "code",
      "source": [
        "pd.options.display.max_columns = None\n",
        "pd.options.display.max_colwidth = None"
      ],
      "metadata": {
        "id": "pkOXWELbXUNk"
      },
      "execution_count": null,
      "outputs": []
    },
    {
      "cell_type": "code",
      "source": [
        "# creates new column extracting the color from the 'Descrption' column\n",
        "df['color'] = df['Description'].str.extract('\\(([A-Za-z]+)\\)')"
      ],
      "metadata": {
        "id": "38ZLiEkE7WA-"
      },
      "execution_count": null,
      "outputs": []
    },
    {
      "cell_type": "code",
      "source": [
        "# shows which color of products had the highest total quantity (sum of quantity)\n",
        "df.groupby('color')['Quantity'].sum().sort_values(ascending= False)"
      ],
      "metadata": {
        "id": "psE5QnUS7XUB"
      },
      "execution_count": null,
      "outputs": []
    },
    {
      "cell_type": "code",
      "source": [
        "# creates new column 'slipper_size\n",
        "contains_slipper = df[df['Description'].str.contains('slipper')]\n",
        "df['slipper_size'] = contains_slipper['Description'].str.extract('\\s([A-Z]+)$')"
      ],
      "metadata": {
        "id": "a6nONTjR7YgV"
      },
      "execution_count": null,
      "outputs": []
    },
    {
      "cell_type": "code",
      "source": [
        "# shows the most popular size of slipper by total quantity ordered (sum of quantity)\n",
        "df.groupby('slipper_size')['Quantity'].sum().sort_values(ascending= False)"
      ],
      "metadata": {
        "id": "RU2modm27aG7"
      },
      "execution_count": null,
      "outputs": []
    },
    {
      "cell_type": "code",
      "execution_count": null,
      "metadata": {
        "id": "TsrPsZLRQh5y"
      },
      "outputs": [],
      "source": [
        "df.head()"
      ]
    }
  ],
  "metadata": {
    "colab": {
      "provenance": [],
      "authorship_tag": "ABX9TyMuiOtoadQVi6PMXOXlKzpF",
      "include_colab_link": true
    },
    "kernelspec": {
      "display_name": "Python 3",
      "name": "python3"
    },
    "language_info": {
      "name": "python"
    }
  },
  "nbformat": 4,
  "nbformat_minor": 0
}