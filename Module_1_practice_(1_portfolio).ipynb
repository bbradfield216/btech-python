{
  "nbformat": 4,
  "nbformat_minor": 0,
  "metadata": {
    "colab": {
      "provenance": [],
      "authorship_tag": "ABX9TyOtWiJQcB3T2LeetMUQpZFn",
      "include_colab_link": true
    },
    "kernelspec": {
      "name": "python3",
      "display_name": "Python 3"
    },
    "language_info": {
      "name": "python"
    }
  },
  "cells": [
    {
      "cell_type": "markdown",
      "metadata": {
        "id": "view-in-github",
        "colab_type": "text"
      },
      "source": [
        "<a href=\"https://colab.research.google.com/github/bbradfield216/btech-python/blob/main/Module_1_practice_(1_portfolio).ipynb\" target=\"_parent\"><img src=\"https://colab.research.google.com/assets/colab-badge.svg\" alt=\"Open In Colab\"/></a>"
      ]
    },
    {
      "cell_type": "code",
      "execution_count": null,
      "metadata": {
        "colab": {
          "base_uri": "https://localhost:8080/"
        },
        "id": "3AcwKueX9cN4",
        "outputId": "44497907-e5b3-468a-cc1e-b24928a23679"
      },
      "outputs": [
        {
          "output_type": "stream",
          "name": "stdout",
          "text": [
            "Sarah spent in total $12.5\n"
          ]
        }
      ],
      "source": [
        "# number of notebooks\n",
        "n_nb = 5\n",
        "\n",
        "# cost per notebook\n",
        "c_p_nb = 2.50\n",
        "\n",
        "# total amount spent calculation\n",
        "t_a_s_c = (n_nb * c_p_nb)\n",
        "\n",
        "# printed results\n",
        "print(f\"Sarah spent in total ${t_a_s_c}\")"
      ]
    },
    {
      "cell_type": "code",
      "source": [
        "# number of chocolates in a box\n",
        "n_ch_i_b = 24\n",
        "\n",
        "# number of chocolates taken out\n",
        "n_ch_t_o = 8\n",
        "\n",
        "# total amount left calculation\n",
        "t_a_l = (n_ch_i_b - n_ch_t_o)\n",
        "\n",
        "# printed results\n",
        "print(f\"There would be {t_a_l} chocolates left in the box.\")"
      ],
      "metadata": {
        "colab": {
          "base_uri": "https://localhost:8080/"
        },
        "id": "AnhDik7iB5MM",
        "outputId": "0425dbe9-89fa-4f6b-8657-f654dda79e8f"
      },
      "execution_count": null,
      "outputs": [
        {
          "output_type": "stream",
          "name": "stdout",
          "text": [
            "There would be 16 chocolates left in the box.\n"
          ]
        }
      ]
    },
    {
      "cell_type": "code",
      "source": [
        "# number of miles John runs everyday\n",
        "n_m_r = 3\n",
        "\n",
        "# consecutive number of days John ran 3 miles\n",
        "c_n_d_j_r = 7\n",
        "\n",
        "# total miles ran calculation\n",
        "t_m_r = (n_m_r * c_n_d_j_r)\n",
        "\n",
        "# printed results\n",
        "print(f\"John ran {t_m_r} miles in total.\")"
      ],
      "metadata": {
        "colab": {
          "base_uri": "https://localhost:8080/"
        },
        "id": "_lmmQZVNEOfI",
        "outputId": "37273ec7-f590-4808-c9f6-266846d88260"
      },
      "execution_count": null,
      "outputs": [
        {
          "output_type": "stream",
          "name": "stdout",
          "text": [
            "John ran 21 miles in total.\n"
          ]
        }
      ]
    },
    {
      "cell_type": "code",
      "source": [
        "# total slices of pizza\n",
        "t_s_p = 8\n",
        "\n",
        "# number of slices of pizza eaten\n",
        "n_p_e = 3\n",
        "\n",
        "# fraction of pizza left calculation\n",
        "f_p_l = (t_s_p - n_p_e)\n",
        "\n",
        "# printed results\n",
        "print(f\"If 3 slices were eaten then the fraction of the pizza would be {f_p_l}/8 slices.\")"
      ],
      "metadata": {
        "colab": {
          "base_uri": "https://localhost:8080/"
        },
        "id": "sqYF2t24GNOZ",
        "outputId": "39e1b6d8-0f5a-40ba-dc0f-c6bf4fe7b434"
      },
      "execution_count": null,
      "outputs": [
        {
          "output_type": "stream",
          "name": "stdout",
          "text": [
            "If 3 slices were eaten then the fraction of the pizza would be 5/8 slices.\n"
          ]
        }
      ]
    },
    {
      "cell_type": "code",
      "source": [
        "# temperature celcius in a city\n",
        "c_t = 18\n",
        "\n",
        "# number of degrees dropped\n",
        "n_d_d = 5\n",
        "\n",
        "# new temperature calculation\n",
        "n_t_c = (c_t - n_d_d)\n",
        "\n",
        "# printed results\n",
        "print(f\"The new temperature for this city would be {n_t_c} degrees celcius.\")"
      ],
      "metadata": {
        "colab": {
          "base_uri": "https://localhost:8080/"
        },
        "id": "dfiQjYQbHlJA",
        "outputId": "e94baa7c-843c-47b3-9d9d-056a43a87acb"
      },
      "execution_count": null,
      "outputs": [
        {
          "output_type": "stream",
          "name": "stdout",
          "text": [
            "The new temperature for this city would be 13 degrees celcius.\n"
          ]
        }
      ]
    },
    {
      "cell_type": "code",
      "source": [
        "# the temperature tomorrow in celcius\n",
        "temp_tmr_c = 25\n",
        "\n",
        "# temperature in fahrenheit calculation\n",
        "temp_f = (25 * 1.8 + 32)\n",
        "\n",
        "# printed results\n",
        "print(f\"The temperature tomorrow converted to fahrenheit would be {temp_f} degrees.\")"
      ],
      "metadata": {
        "colab": {
          "base_uri": "https://localhost:8080/"
        },
        "id": "wKtYg2YtKe4T",
        "outputId": "97262238-2f39-4f9d-e059-7685e0816ced"
      },
      "execution_count": null,
      "outputs": [
        {
          "output_type": "stream",
          "name": "stdout",
          "text": [
            "The temperature tomorrow converted to fahrenheit would be 77.0 degrees.\n"
          ]
        }
      ]
    },
    {
      "cell_type": "code",
      "source": [
        "\n",
        "# 2 cups of flour make 12 cookies\n",
        "\n",
        "# cups of flour needed to make 42 cookies calculation\n",
        "c_f_n = (42 / 12) * 2\n",
        "\n",
        "# printed results\n",
        "print(f\"You would need {c_f_n} cups of flour to make 42 cookies.\")\n",
        "\n"
      ],
      "metadata": {
        "colab": {
          "base_uri": "https://localhost:8080/"
        },
        "id": "ikqalb2qMbs6",
        "outputId": "24d3eab5-89e5-4bdf-924b-12bb0c86025f"
      },
      "execution_count": null,
      "outputs": [
        {
          "output_type": "stream",
          "name": "stdout",
          "text": [
            "You would need 7.0 cups of flour to make 42 cookies.\n"
          ]
        }
      ]
    },
    {
      "cell_type": "code",
      "source": [
        "# mary's allowance per week\n",
        "m_a_per_w = 15\n",
        "\n",
        "# money saved per week\n",
        "m_saved_per_w = 5\n",
        "\n",
        "# total amount of money saved after 4 weeks calculation\n",
        "t_m_saved = (m_saved_per_w * 4)\n",
        "\n",
        "# printed results\n",
        "print(f\"The total amount of money saved after 4 weeks would be ${t_m_saved}.\")"
      ],
      "metadata": {
        "colab": {
          "base_uri": "https://localhost:8080/"
        },
        "id": "Cf0ADsO7Pn1p",
        "outputId": "dc6ef6f9-bc12-41cb-d9d7-d5787fd72083"
      },
      "execution_count": null,
      "outputs": [
        {
          "output_type": "stream",
          "name": "stdout",
          "text": [
            "The total amount of money saved after 4 weeks would be $20.\n"
          ]
        }
      ]
    },
    {
      "cell_type": "code",
      "source": [
        "# mary's savings goal is 10,000\n",
        "# mary's current savings\n",
        "m_c_s = 4500\n",
        "\n",
        "# money saved per month\n",
        "m_s_p_m = 500\n",
        "\n",
        "# total number of months it will take to reach 10000 calculation\n",
        "t_n_m = (10000 - m_c_s) / 500\n",
        "\n",
        "# printed results\n",
        "print(f\"It will take {t_n_m} months to reach $10,000.\")\n",
        "\n"
      ],
      "metadata": {
        "colab": {
          "base_uri": "https://localhost:8080/"
        },
        "id": "1MRTKyeqMFfm",
        "outputId": "2a7c59b9-63bd-414c-a119-37b4525753ce"
      },
      "execution_count": null,
      "outputs": [
        {
          "output_type": "stream",
          "name": "stdout",
          "text": [
            "It will take 11.0 months to reach $10,000.\n"
          ]
        }
      ]
    },
    {
      "cell_type": "code",
      "source": [
        "# number of students needed to be transported\n",
        "num_s_t = 130\n",
        "\n",
        "# number of students each bus can carry\n",
        "num_s = 40\n",
        "\n",
        "# number of buses required calculation\n",
        "num_buses_r = (num_s_t / num_s)\n",
        "\n",
        "# printed results\n",
        "print(f\"The school will need {num_buses_r} buses.\")"
      ],
      "metadata": {
        "colab": {
          "base_uri": "https://localhost:8080/"
        },
        "id": "-hVin6eJOg6t",
        "outputId": "dba9e635-3f55-4295-fe66-ea1b167c7a43"
      },
      "execution_count": null,
      "outputs": [
        {
          "output_type": "stream",
          "name": "stdout",
          "text": [
            "The school will need 3.25 buses.\n"
          ]
        }
      ]
    },
    {
      "cell_type": "code",
      "source": [
        "# retail cost per smartphone\n",
        "cost_p_sp = 400\n",
        "\n",
        "# production cost per smartphone\n",
        "pcost_p_sp = 250\n",
        "\n",
        "# total prophit for 500 smartphones sold calculation\n",
        "total_prophit = (cost_p_sp - pcost_p_sp) * 500\n",
        "\n",
        "# printed results\n",
        "print(f\"The company would make {total_prophit}.\")"
      ],
      "metadata": {
        "colab": {
          "base_uri": "https://localhost:8080/"
        },
        "id": "ZG8A9G0PPu4s",
        "outputId": "6e86b912-ec15-472e-d0ae-9be6dd4750c3"
      },
      "execution_count": null,
      "outputs": [
        {
          "output_type": "stream",
          "name": "stdout",
          "text": [
            "The company would make 75000.\n"
          ]
        }
      ]
    },
    {
      "cell_type": "code",
      "source": [
        "# 2 cups sugar to make 24 cookies\n",
        "\n",
        "# number of cookies sarah wants to make\n",
        "num_cookies = 60\n",
        "\n",
        "# available cups of sugar\n",
        "a_sugar = 3\n",
        "\n",
        "# number of cookies sarah can make with the available sugar calculation\n",
        "num_cookies_scm = (a_sugar * 24) / 2\n",
        "\n",
        "# printed results\n",
        "print(f\"Sarah can make {num_cookies_scm} cookies with the available 3 cups of sugar.\")"
      ],
      "metadata": {
        "colab": {
          "base_uri": "https://localhost:8080/"
        },
        "id": "9SU671Q9R7LH",
        "outputId": "b659f9cb-1100-47d3-f171-492d010fa526"
      },
      "execution_count": null,
      "outputs": [
        {
          "output_type": "stream",
          "name": "stdout",
          "text": [
            "Sarah can make 36.0 cookies with the available 3 cups of sugar.\n"
          ]
        }
      ]
    }
  ]
}